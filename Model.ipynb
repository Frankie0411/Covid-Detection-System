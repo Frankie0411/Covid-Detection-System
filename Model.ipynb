{
 "cells": [
  {
   "cell_type": "code",
   "execution_count": 2,
   "id": "5230da6a",
   "metadata": {},
   "outputs": [],
   "source": [
    "import numpy as np\n",
    "\n",
    "data = np.load('data.npy')\n",
    "target = np.load('target.npy')"
   ]
  },
  {
   "cell_type": "code",
   "execution_count": 24,
   "id": "e6a03b38",
   "metadata": {},
   "outputs": [
    {
     "name": "stdout",
     "output_type": "stream",
     "text": [
      "Model: \"sequential_1\"\n",
      "_________________________________________________________________\n",
      "Layer (type)                 Output Shape              Param #   \n",
      "=================================================================\n",
      "functional_5 (Functional)    (None, 100, 100, 384)     11008     \n",
      "_________________________________________________________________\n",
      "conv2d_38 (Conv2D)           (None, 98, 98, 64)        221248    \n",
      "_________________________________________________________________\n",
      "activation_2 (Activation)    (None, 98, 98, 64)        0         \n",
      "_________________________________________________________________\n",
      "max_pooling2d_2 (MaxPooling2 (None, 49, 49, 64)        0         \n",
      "_________________________________________________________________\n",
      "conv2d_39 (Conv2D)           (None, 47, 47, 32)        18464     \n",
      "_________________________________________________________________\n",
      "activation_3 (Activation)    (None, 47, 47, 32)        0         \n",
      "_________________________________________________________________\n",
      "max_pooling2d_3 (MaxPooling2 (None, 23, 23, 32)        0         \n",
      "_________________________________________________________________\n",
      "flatten_1 (Flatten)          (None, 16928)             0         \n",
      "_________________________________________________________________\n",
      "dropout_3 (Dropout)          (None, 16928)             0         \n",
      "_________________________________________________________________\n",
      "dense_3 (Dense)              (None, 128)               2166912   \n",
      "_________________________________________________________________\n",
      "dropout_4 (Dropout)          (None, 128)               0         \n",
      "_________________________________________________________________\n",
      "dense_4 (Dense)              (None, 64)                8256      \n",
      "_________________________________________________________________\n",
      "dropout_5 (Dropout)          (None, 64)                0         \n",
      "_________________________________________________________________\n",
      "dense_5 (Dense)              (None, 2)                 130       \n",
      "=================================================================\n",
      "Total params: 2,426,018\n",
      "Trainable params: 2,426,018\n",
      "Non-trainable params: 0\n",
      "_________________________________________________________________\n"
     ]
    }
   ],
   "source": [
    "import tensorflow as tf\n",
    "from tensorflow import keras\n",
    "from tensorflow.keras import layers\n",
    "\n",
    "input_shape = data.shape[1:]\n",
    "inp = keras.Input(shape=input_shape)\n",
    "convs=[]\n",
    "\n",
    "parallel_kernels = [3,5,7]\n",
    "\n",
    "for i in range(len(parallel_kernels)):\n",
    "    \n",
    "    conv = layers.Conv2D(128,parallel_kernels[i],padding='same',activation='relu',input_shape=input_shape,strides=1)(inp)\n",
    "    convs.append(conv)\n",
    "    \n",
    "out = layers.Concatenate()(convs)\n",
    "conv_model = keras.Model(inp,out)\n",
    "\n",
    "model = keras.Sequential()\n",
    "model.add(conv_model)\n",
    "\n",
    "model.add(Conv2D(64,(3,3)))\n",
    "model.add(Activation('relu'))\n",
    "model.add(MaxPooling2D(pool_size=(2,2)))\n",
    "\n",
    "model.add(Conv2D(32,(3,3)))\n",
    "model.add(Activation('relu'))\n",
    "model.add(MaxPooling2D(pool_size=(2,2)))\n",
    "\n",
    "model.add(Flatten())\n",
    "model.add(Dropout(0.5))\n",
    "model.add(layers.Dense(128,activation='relu'))\n",
    "model.add(Dropout(0.5))\n",
    "model.add(layers.Dense(64,activation='relu'))\n",
    "model.add(Dropout(0.5))\n",
    "model.add(layers.Dense(2,input_dim=128,activation='softmax'))\n",
    "model.compile(loss='categorical_crossentropy',optimizer='adam',metrics=['accuracy'])\n",
    "\n",
    "model.summary()\n"
   ]
  },
  {
   "cell_type": "code",
   "execution_count": 25,
   "id": "66de6440",
   "metadata": {},
   "outputs": [],
   "source": [
    "from sklearn.model_selection import train_test_split\n",
    "\n",
    "train_data,test_data,train_target,test_target=train_test_split(data,target,test_size=0.1)"
   ]
  },
  {
   "cell_type": "code",
   "execution_count": 28,
   "id": "6a32e0a5",
   "metadata": {},
   "outputs": [
    {
     "name": "stdout",
     "output_type": "stream",
     "text": [
      "Epoch 1/20\n",
      "55/55 [==============================] - ETA: 0s - loss: 0.6142 - accuracy: 0.7289WARNING:tensorflow:From C:\\Users\\farha\\anaconda3\\lib\\site-packages\\tensorflow\\python\\training\\tracking\\tracking.py:111: Model.state_updates (from tensorflow.python.keras.engine.training) is deprecated and will be removed in a future version.\n",
      "Instructions for updating:\n",
      "This property should not be used in TensorFlow 2.0, as updates are applied automatically.\n",
      "WARNING:tensorflow:From C:\\Users\\farha\\anaconda3\\lib\\site-packages\\tensorflow\\python\\training\\tracking\\tracking.py:111: Layer.updates (from tensorflow.python.keras.engine.base_layer) is deprecated and will be removed in a future version.\n",
      "Instructions for updating:\n",
      "This property should not be used in TensorFlow 2.0, as updates are applied automatically.\n",
      "INFO:tensorflow:Assets written to: model-001.model\\assets\n",
      "55/55 [==============================] - 220s 4s/step - loss: 0.6142 - accuracy: 0.7289 - val_loss: 0.6022 - val_accuracy: 0.7113\n",
      "Epoch 2/20\n",
      "55/55 [==============================] - 208s 4s/step - loss: 0.5947 - accuracy: 0.7370 - val_loss: 0.6058 - val_accuracy: 0.7113\n",
      "Epoch 3/20\n",
      "55/55 [==============================] - ETA: 0s - loss: 0.5920 - accuracy: 0.7370INFO:tensorflow:Assets written to: model-003.model\\assets\n",
      "55/55 [==============================] - 208s 4s/step - loss: 0.5920 - accuracy: 0.7370 - val_loss: 0.6013 - val_accuracy: 0.7113\n",
      "Epoch 4/20\n",
      "55/55 [==============================] - 214s 4s/step - loss: 0.5875 - accuracy: 0.7370 - val_loss: 0.6023 - val_accuracy: 0.7113\n",
      "Epoch 5/20\n",
      "55/55 [==============================] - 207s 4s/step - loss: 0.5855 - accuracy: 0.7370 - val_loss: 0.6024 - val_accuracy: 0.7113\n",
      "Epoch 6/20\n",
      "55/55 [==============================] - ETA: 0s - loss: 0.5838 - accuracy: 0.7370INFO:tensorflow:Assets written to: model-006.model\\assets\n",
      "55/55 [==============================] - 208s 4s/step - loss: 0.5838 - accuracy: 0.7370 - val_loss: 0.6011 - val_accuracy: 0.7113\n",
      "Epoch 7/20\n",
      "55/55 [==============================] - 205s 4s/step - loss: 0.5825 - accuracy: 0.7370 - val_loss: 0.6014 - val_accuracy: 0.7113\n",
      "Epoch 8/20\n",
      "55/55 [==============================] - 205s 4s/step - loss: 0.5791 - accuracy: 0.7370 - val_loss: 0.6058 - val_accuracy: 0.7113\n",
      "Epoch 9/20\n",
      "55/55 [==============================] - 206s 4s/step - loss: 0.5811 - accuracy: 0.7370 - val_loss: 0.6024 - val_accuracy: 0.7113\n",
      "Epoch 10/20\n",
      "55/55 [==============================] - 206s 4s/step - loss: 0.5770 - accuracy: 0.7370 - val_loss: 0.6023 - val_accuracy: 0.7113\n",
      "Epoch 11/20\n",
      "55/55 [==============================] - 206s 4s/step - loss: 0.5794 - accuracy: 0.7370 - val_loss: 0.6017 - val_accuracy: 0.7113\n",
      "Epoch 12/20\n",
      "55/55 [==============================] - 205s 4s/step - loss: 0.5774 - accuracy: 0.7370 - val_loss: 0.6020 - val_accuracy: 0.7113\n",
      "Epoch 13/20\n",
      "55/55 [==============================] - 205s 4s/step - loss: 0.5798 - accuracy: 0.7370 - val_loss: 0.6024 - val_accuracy: 0.7113\n",
      "Epoch 14/20\n",
      "55/55 [==============================] - 205s 4s/step - loss: 0.5779 - accuracy: 0.7370 - val_loss: 0.6020 - val_accuracy: 0.7113\n",
      "Epoch 15/20\n",
      "55/55 [==============================] - 205s 4s/step - loss: 0.5757 - accuracy: 0.7370 - val_loss: 0.6030 - val_accuracy: 0.7113\n",
      "Epoch 16/20\n",
      "55/55 [==============================] - 205s 4s/step - loss: 0.5786 - accuracy: 0.7370 - val_loss: 0.6031 - val_accuracy: 0.7113\n",
      "Epoch 17/20\n",
      "55/55 [==============================] - 216s 4s/step - loss: 0.5787 - accuracy: 0.7370 - val_loss: 0.6017 - val_accuracy: 0.7113\n",
      "Epoch 18/20\n",
      "55/55 [==============================] - 207s 4s/step - loss: 0.5784 - accuracy: 0.7370 - val_loss: 0.6016 - val_accuracy: 0.7113\n",
      "Epoch 19/20\n",
      "55/55 [==============================] - 217s 4s/step - loss: 0.5793 - accuracy: 0.7370 - val_loss: 0.6021 - val_accuracy: 0.7113\n",
      "Epoch 20/20\n",
      "55/55 [==============================] - 235s 4s/step - loss: 0.5768 - accuracy: 0.7370 - val_loss: 0.6020 - val_accuracy: 0.7113\n"
     ]
    }
   ],
   "source": [
    "checkpoint = keras.callbacks.ModelCheckpoint('model-{epoch:03d}.model',monitor='val_loss',verbose=0,save_best_only=True,mode='auto')\n",
    "history = model.fit(train_data,train_target,epochs=20,callbacks=[checkpoint],validation_split=0.1)"
   ]
  },
  {
   "cell_type": "code",
   "execution_count": 30,
   "id": "263eaa2d",
   "metadata": {},
   "outputs": [
    {
     "data": {
      "image/png": "[encoded data removed]",
      "text/plain": [
       "<Figure size 432x288 with 1 Axes>"
      ]
     },
     "metadata": {
      "needs_background": "light"
     },
     "output_type": "display_data"
    }
   ],
   "source": [
    "from matplotlib import pyplot as plt\n",
    "\n",
    "plt.plot(history.history['loss'],'r',label='Training loss')\n",
    "plt.plot(history.history['val_loss'],label='Validation loss')\n",
    "plt.xlabel('No. of Epochs')\n",
    "plt.ylabel('Loss')\n",
    "plt.legend()\n",
    "plt.show()"
   ]
  },
  {
   "cell_type": "code",
   "execution_count": 31,
   "id": "84b5557d",
   "metadata": {},
   "outputs": [
    {
     "data": {
      "image/png": "[encoded data removed]",
      "text/plain": [
       "<Figure size 432x288 with 1 Axes>"
      ]
     },
     "metadata": {
      "needs_background": "light"
     },
     "output_type": "display_data"
    }
   ],
   "source": [
    "plt.plot(history.history['accuracy'],'r',label='Training accuracy')\n",
    "plt.plot(history.history['val_accuracy'],label='Validation accuracy')\n",
    "plt.xlabel('No. of Epochs')\n",
    "plt.ylabel('Loss')\n",
    "plt.legend()\n",
    "plt.show()"
   ]
  },
  {
   "cell_type": "code",
   "execution_count": 32,
   "id": "1dba1bfb",
   "metadata": {},
   "outputs": [
    {
     "name": "stdout",
     "output_type": "stream",
     "text": [
      "7/7 [==============================] - 6s 803ms/step - loss: 0.6097 - accuracy: 0.7037\n",
      "[0.6097164154052734, 0.7037037014961243]\n"
     ]
    }
   ],
   "source": [
    "print(model.evaluate(test_data,test_target))"
   ]
  },
  {
   "cell_type": "code",
   "execution_count": null,
   "id": "67f5c8bb",
   "metadata": {},
   "outputs": [],
   "source": []
  }
 ],
 "metadata": {
  "kernelspec": {
   "display_name": "Python 3",
   "language": "python",
   "name": "python3"
  },
  "language_info": {
   "codemirror_mode": {
    "name": "ipython",
    "version": 3
   },
   "file_extension": ".py",
   "mimetype": "text/x-python",
   "name": "python",
   "nbconvert_exporter": "python",
   "pygments_lexer": "ipython3",
   "version": "3.8.8"
  }
 },
 "nbformat": 4,
 "nbformat_minor": 5
}
